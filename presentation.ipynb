{
 "cells": [
  {
   "cell_type": "code",
   "execution_count": 1,
   "metadata": {},
   "outputs": [],
   "source": [
    "import numpy as np\n",
    "import matplotlib.pyplot as plt\n",
    "import src.time_indep_algorithm as tia\n",
    "import wave_equation as we\n",
    "from IPython.display import HTML"
   ]
  },
  {
   "cell_type": "markdown",
   "metadata": {},
   "source": [
    "# Part 1."
   ]
  },
  {
   "cell_type": "code",
   "execution_count": null,
   "metadata": {},
   "outputs": [],
   "source": [
    "# Parameters\n",
    "L = 1 \n",
    "N = 100\n",
    "dt = 0.001\n",
    "c = 1 \n",
    "\n",
    "timesteps = 500  # Number of time steps\n",
    "snapshot_intervals = [0, 40, 80, 120, 160, 199]  # Selected timesteps for snapshots\n",
    "\n",
    "# Initialize the simulation\n",
    "# Choose init = '1' (Ψ(x, t = 0) = sin(2πx)), init = '2' (Ψ(x, t = 0) = sin(5πx)) or init = '3' (Ψ(x, t = 0) = sin(5πx) if 1/5 < x < 2/5, \n",
    "# else Ψ = 0) for the three initial conditions respectively\n",
    "init = '3'\n",
    "dx, r, x, initial_Psi = we.initialize_simulation(L, N, dt, c, init)\n",
    "\n",
    "# Initialize wave function arrays\n",
    "Psi_old = initial_Psi.copy()\n",
    "Psi_current = initial_Psi.copy()  # dPsi/dt = 0 at t=0\n",
    "Psi_new = np.zeros(N+1)\n",
    "\n",
    "# Run animation and plot\n",
    "ani, snapshots = we.animate_wave(N, timesteps, x, Psi_old, Psi_current, Psi_new, r, L, snapshot_intervals)\n",
    "\n",
    "%matplotlib notebook\n",
    "display(HTML(ani.to_jshtml()))\n",
    "\n",
    "%matplotlib inline\n",
    "we.plot_snapshots(x, snapshots, snapshot_intervals)\n"
   ]
  },
  {
   "cell_type": "markdown",
   "metadata": {},
   "source": [
    "# Part 2. "
   ]
  },
  {
   "cell_type": "code",
   "execution_count": 3,
   "metadata": {},
   "outputs": [],
   "source": [
    "# your plots and results here"
   ]
  },
  {
   "cell_type": "markdown",
   "metadata": {},
   "source": [
    "# Part 3. The time independent dynamics"
   ]
  },
  {
   "cell_type": "markdown",
   "metadata": {},
   "source": [
    "## 3.1 Comparison with analytical linear dependence of the concertration on y"
   ]
  },
  {
   "cell_type": "code",
   "execution_count": null,
   "metadata": {},
   "outputs": [],
   "source": [
    "# run the Jacobi iteration\n",
    "optimized_concentration, iteration, delta, _ = tia.jacobi_parallel()\n",
    "\n",
    "# check each column is the same symetrically\n",
    "for i in range(1, optimized_concentration.shape[1] // 2):\n",
    "    np.allclose(optimized_concentration[:, i], optimized_concentration[:, -i])\n",
    "print(\"All columns are the same symetrically. \\n\")\n",
    "print(f\"Converged after {iteration} iterations with error {delta:.6e} \\n\")\n",
    "\n",
    "# plot the heatmap of the optimized concentration\n",
    "plt.figure(figsize=(6, 4))\n",
    "plt.imshow(optimized_concentration, cmap=\"hot\", aspect=\"auto\", origin=\"upper\",extent=[0, 1, 1, 0])\n",
    "plt.colorbar(label=\"Concentration\")\n",
    "plt.xlabel(\"x\")\n",
    "plt.ylabel(\"y\")\n",
    "plt.title(\"Heatmap of $c(x, y)$ by Jacobi Iteration\")\n",
    "plt.gca().invert_yaxis()  # invert y-axis to match the analytical solution\n",
    "plt.savefig(\"./fig/heatmap_jacobi.png\")\n",
    "plt.show()\n",
    "\n",
    "c_y_numerical_optimized = np.mean(optimized_concentration, axis=1)\n",
    "y_values_optimized = np.linspace(0, 1, len(c_y_numerical_optimized))\n",
    "\n",
    "# calculate the maximum error\n",
    "max_error_optimized = np.max(np.abs(c_y_numerical_optimized - y_values_optimized))\n",
    "print(f\"Maximum error: {max_error_optimized:.6e}\")\n",
    "\n",
    "# plot the numerical solution\n",
    "plt.figure(figsize=(6, 4))\n",
    "plt.plot(y_values_optimized, c_y_numerical_optimized, label=\"Optimized Numerical Solution (Jacobi)\", linestyle=\"--\", marker=\"o\")\n",
    "plt.plot(y_values_optimized, y_values_optimized, label=\"Analytical Solution $c(y) = y$\", linestyle=\"-\", color=\"r\")\n",
    "plt.xlabel(\"y\")\n",
    "plt.ylabel(\"Concentration $c(y)$\")\n",
    "plt.legend()\n",
    "plt.title(\"Comparison of Numerical and Analytical Solution (Jacobi)\")\n",
    "plt.grid(True)\n",
    "plt.savefig(\"./fig/numerical_vs_analytical_jacobi.png\")\n",
    "plt.show()\n"
   ]
  },
  {
   "cell_type": "code",
   "execution_count": null,
   "metadata": {},
   "outputs": [],
   "source": [
    "# run the Gauss-Seidel iteration\n",
    "optimized_concentration, iteration, delta, _ = tia.gauss_seidel_seq()\n",
    "print(f\"Converged after {iteration} iterations with error {delta:.6e}\")\n",
    "\n",
    "# plot the heatmap of the optimized concentration\n",
    "plt.figure(figsize=(6, 4))\n",
    "plt.imshow(optimized_concentration, cmap=\"hot\", aspect=\"auto\", origin=\"upper\",extent=[0, 1, 1, 0])\n",
    "plt.colorbar(label=\"Concentration\")\n",
    "plt.xlabel(\"x\")\n",
    "plt.ylabel(\"y\")\n",
    "plt.title(\"Heatmap of $c(x, y)$ by Gauss-Seidel Iteration\")\n",
    "plt.gca().invert_yaxis()  # invert y-axis to match the analytical solution\n",
    "plt.savefig(\"./fig/heatmap_gauss_seidel.png\")\n",
    "plt.show()\n",
    "\n",
    "# print(optimized_concentration[:, 0])\n",
    "# print(optimized_concentration[:, 1])\n",
    "# print(optimized_concentration[:, 2])\n",
    "# print(optimized_concentration[:, -2])\n",
    "c_y_numerical_optimized = np.mean(optimized_concentration, axis=1)\n",
    "y_values_optimized = np.linspace(0, 1, len(c_y_numerical_optimized))\n",
    "\n",
    "# calculate the maximum error\n",
    "max_error_optimized = np.max(np.abs(c_y_numerical_optimized - y_values_optimized))\n",
    "print(f\"Maximum error: {max_error_optimized:.6e}\")\n",
    "\n",
    "# plot the numerical solution\n",
    "plt.figure(figsize=(6, 4))\n",
    "plt.plot(y_values_optimized, c_y_numerical_optimized, label=\"Optimized Numerical Solution (Gauss-Seidel)\", linestyle=\"--\", marker=\"o\")\n",
    "plt.plot(y_values_optimized, y_values_optimized, label=\"Analytical Solution $c(y) = y$\", linestyle=\"-\", color=\"r\")\n",
    "plt.xlabel(\"y\")\n",
    "plt.ylabel(\"Concentration $c(y)$\")\n",
    "plt.legend()\n",
    "plt.title(\"Comparison of Numerical and Analytical Solution (Gauss-Seidel)\")\n",
    "plt.grid(True)\n",
    "plt.savefig(\"./fig/numerical_vs_analytical_gauss_seidel.png\")\n",
    "plt.show()\n"
   ]
  },
  {
   "cell_type": "code",
   "execution_count": null,
   "metadata": {},
   "outputs": [],
   "source": [
    "# run sor parallel iteration\n",
    "optimized_concentration, iteration, delta, _ = tia.sor_wavefront(omega=1.75)\n",
    "print(f\"Converged after {iteration} iterations with error {delta:.6e}\")\n",
    "\n",
    "# plot the heatmap of the optimized concentration\n",
    "plt.figure(figsize=(6, 4))\n",
    "plt.imshow(optimized_concentration, cmap=\"hot\", aspect=\"auto\", origin=\"upper\",extent=[0, 1, 1, 0])\n",
    "plt.colorbar(label=\"Concentration\")\n",
    "plt.xlabel(\"x\")\n",
    "plt.ylabel(\"y\")\n",
    "plt.title(\"Heatmap of $c(x, y)$ by SOR Iteration\")\n",
    "plt.gca().invert_yaxis()  # invert y-axis to match the analytical solution\n",
    "plt.savefig(\"./fig/heatmap_sor.png\")\n",
    "plt.show()\n",
    "\n",
    "#print(optimized_concentration[:, 0])\n",
    "# print(optimized_concentration[:, 1])\n",
    "# print(optimized_concentration[:, 2])\n",
    "# print(optimized_concentration[:, -2])\n",
    "c_y_numerical_optimized = np.mean(optimized_concentration, axis=1)\n",
    "y_values_optimized = np.linspace(0, 1, len(c_y_numerical_optimized))\n",
    "\n",
    "# calculate the maximum error\n",
    "max_error_optimized = np.max(np.abs(c_y_numerical_optimized - y_values_optimized))\n",
    "print(f\"Maximum error: {max_error_optimized:.6e}\")\n",
    "\n",
    "# plot the numerical solution\n",
    "plt.figure(figsize=(6, 4))\n",
    "plt.plot(y_values_optimized, c_y_numerical_optimized, label=\"Optimized Numerical Solution (SOR)\", linestyle=\"--\", marker=\"o\")\n",
    "plt.plot(y_values_optimized, y_values_optimized, label=\"Analytical Solution $c(y) = y$\", linestyle=\"-\", color=\"r\")\n",
    "plt.xlabel(\"y\")\n",
    "plt.ylabel(\"Concentration $c(y)$\")\n",
    "plt.legend()\n",
    "plt.title(\"Comparison of Numerical and Analytical Solution (SOR)\")\n",
    "plt.grid(True)\n",
    "plt.savefig(\"./fig/numerical_vs_analytical_sor.png\")\n",
    "plt.show()\n"
   ]
  },
  {
   "cell_type": "markdown",
   "metadata": {},
   "source": [
    "## 3.2 Dependence of convergence delta on the number of iterations"
   ]
  },
  {
   "cell_type": "code",
   "execution_count": null,
   "metadata": {},
   "outputs": [],
   "source": [
    "# plot the convergence of the Jacobi, Gauss-Seidel and SOR methods\n",
    "optimized_concentration_jacbi, iteration_jacbi, delta_jacbi, delta_list_jacbi = tia.jacobi_parallel(max_iterations = 3000)\n",
    "optimized_concentration_gs, iteration_gs, delta_gs, delta_list_gs = tia.gauss_seidel_wavefront(max_iterations = 3000)\n",
    "optimized_concentration_sor, iteration_sor, delta_sor, delta_list_sor = tia.sor_wavefront(omega=1.75, max_iterations = 3000)\n",
    "\n",
    "print(len(delta_list_jacbi))\n",
    "\n",
    "plt.figure(figsize=(6, 4))\n",
    "plt.plot(np.arange(1, len(delta_list_jacbi) + 1), delta_list_jacbi, label=\"Jacobi\", linestyle=\"--\", marker=\"o\")\n",
    "plt.plot(np.arange(1, len(delta_list_gs)  + 1), delta_list_gs, label=\"Gauss-Seidel\", linestyle=\"--\", marker=\"o\")\n",
    "plt.plot(np.arange(1, len(delta_list_sor) + 1), delta_list_sor, label=\"SOR\", linestyle=\"--\", marker=\"o\")\n",
    "plt.yscale(\"log\")\n",
    "plt.xlabel(\"Iteration\")\n",
    "plt.ylabel(\"Error\")\n",
    "plt.legend()\n",
    "plt.title(\"Convergence of Jacobi, Gauss-Seidel and SOR\")\n",
    "plt.grid(True)\n",
    "plt.savefig(\"./fig/convergence_on_iterations.png\")\n",
    "plt.show()\n"
   ]
  },
  {
   "cell_type": "markdown",
   "metadata": {},
   "source": [
    "## 3.3 Dependence of optimal Omega on N"
   ]
  },
  {
   "cell_type": "markdown",
   "metadata": {},
   "source": [
    "Successive Over-Relaxation (SOR) method improves the convergence of Gauss-Seidel iteration by introducing a relaxation factor $ \\omega $. The optimal choice of $ \\omega $ depends on the grid size $ N $. According to empirical formulas:\n",
    "\n",
    "$$\n",
    "\\omega_{opt} \\approx \\frac{2}{1 + \\sin(\\frac{\\pi}{N})}\n",
    "$$\n",
    "As $( N \\to \\infty )$, $ \\omega_{opt} \\to 2 $\n",
    "\n"
   ]
  },
  {
   "cell_type": "code",
   "execution_count": null,
   "metadata": {},
   "outputs": [],
   "source": [
    "print(np.linspace(1.7, 2.0, 15))\n"
   ]
  },
  {
   "cell_type": "code",
   "execution_count": null,
   "metadata": {},
   "outputs": [],
   "source": [
    "# Function to run SOR with different omega values\n",
    "def run_sor_experiment(N_values, omega_values, tia):\n",
    "    results = []\n",
    "    \n",
    "    for N in N_values:\n",
    "        best_iterations = float('inf')\n",
    "        best_omega = None\n",
    "        \n",
    "        for omega in omega_values:\n",
    "            _, iteration_sor, delta_sor, _ = tia.sor_wavefront(N=N, M=N, omega=omega, max_iterations=10000)\n",
    "            \n",
    "            if iteration_sor < best_iterations:\n",
    "                best_iterations = iteration_sor\n",
    "                best_omega = omega\n",
    "        \n",
    "        results.append((N, best_omega, best_iterations))\n",
    "    \n",
    "    return np.array(results)\n",
    "\n",
    "# Define grid sizes and omega values to test\n",
    "# N_values = np.arange(50, 150, 10)\n",
    "N_values = [50, 60, 70, 80, 90, 100]\n",
    "omega_values = np.linspace(1.7, 2.0, 5)  # Search omega in [1.7, 2.0]\n",
    "\n",
    "# Run the experiment\n",
    "results = run_sor_experiment(N_values, omega_values, tia)\n",
    "\n",
    "# Plot the results\n",
    "plt.figure(figsize=(8, 5))\n",
    "plt.plot(results[:, 0], results[:, 1], marker='o', linestyle='-', color='b', label=\"$\\\\omega_{opt}$ vs. $N$\")\n",
    "plt.xlabel(\"Grid Size $N$\")\n",
    "plt.ylabel(\"Optimal $\\\\omega$\")\n",
    "plt.title(\"Optimal Relaxation Factor $\\\\omega$ vs. Grid Size $N$\")\n",
    "plt.legend()\n",
    "plt.grid()\n",
    "plt.savefig(\"./fig/optimal_omega_vs_N.png\")\n",
    "plt.show()\n"
   ]
  },
  {
   "cell_type": "code",
   "execution_count": null,
   "metadata": {},
   "outputs": [],
   "source": []
  },
  {
   "cell_type": "code",
   "execution_count": null,
   "metadata": {},
   "outputs": [],
   "source": []
  }
 ],
 "metadata": {
  "kernelspec": {
   "display_name": "base",
   "language": "python",
   "name": "python3"
  },
  "language_info": {
   "codemirror_mode": {
    "name": "ipython",
    "version": 3
   },
   "file_extension": ".py",
   "mimetype": "text/x-python",
   "name": "python",
   "nbconvert_exporter": "python",
   "pygments_lexer": "ipython3",
   "version": "3.9.18"
  }
 },
 "nbformat": 4,
 "nbformat_minor": 2
}
